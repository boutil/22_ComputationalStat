{
 "cells": [
  {
   "cell_type": "markdown",
   "metadata": {},
   "source": [
    "## <font color=darkcyan>Modèles de mélange</font>\n",
    "\n",
    "#### <font color=darkorange>Densité de mélange </font>\n",
    "\n",
    "Considérons un mélange de $K$ lois gaussiennes dont la densité est donnée par\n",
    "$$f_\\theta(x)=\\sum_{k=1}^K\\pi_kf_{\\mathcal N(\\mu_k,\\sigma^2_k)}(x),$$\n",
    "où $0<\\pi_k<1$, $\\sum_{k=1}^K\\pi_k=1$, $\\mu_k\\in\\mathbb R$ et $\\sigma_k>0$, $k=1,\\dots,K$. \n"
   ]
  },
  {
   "cell_type": "code",
   "execution_count": null,
   "metadata": {},
   "outputs": [],
   "source": [
    "\"\"\"\"\"\"\"\"\"\"\"\"\"\"\"\"\"\n",
    "Required packages\n",
    "\"\"\"\"\"\"\"\"\"\"\"\"\"\"\"\"\"\n",
    "import seaborn as sns\n",
    "import math\n",
    "import autograd.numpy as np\n",
    "import pandas as pd\n",
    "import scipy.stats as st\n",
    "import matplotlib.pyplot as plt\n",
    "# package which differentiates standard Python and Numpy code\n",
    "from autograd import grad\n",
    "# to get progress bars\n",
    "from tqdm import tqdm"
   ]
  },
  {
   "cell_type": "markdown",
   "metadata": {},
   "source": [
    "#### Question 1\n",
    "Ecrire une fonction **multi_gauss** qui prend en argument une moyenne et une matrice de covariance et renvoie l'opposé de  la logdensité gaussienne associée à ces paramètres. On écrira une fonction pour une variable en dimension $d>1$."
   ]
  },
  {
   "cell_type": "code",
   "execution_count": null,
   "metadata": {},
   "outputs": [],
   "source": [
    "def multi_gauss(mu, sigma):\n",
    "    \"\"\"\n",
    "    Inputs\n",
    "    ----------\n",
    "    mu: mean of the Gaussian distribution\n",
    "    sigma: covariance matrix of the Gaussian distribution\n",
    "    \n",
    "    Outputs\n",
    "    -------\n",
    "    logp: opposite of the loglikelihood\n",
    "    \"\"\"\n",
    "\n",
    "    # A completer\n",
    "    "
   ]
  },
  {
   "cell_type": "markdown",
   "metadata": {},
   "source": [
    "#### Question 2\n",
    "Ecrire une fonction **mixture** qui prend en argument différentes logdensités et un vecteur de poids et renvoie la logdensité du mélange associé."
   ]
  },
  {
   "cell_type": "code",
   "execution_count": null,
   "metadata": {},
   "outputs": [],
   "source": [
    "def mixture(log_prob, weights):\n",
    "    \"\"\"\n",
    "    Inputs\n",
    "    ----------\n",
    "    log_prob: opposite of the likelihood of each term\n",
    "    weights: weights of the components of the mixture\n",
    "    \n",
    "    Outputs\n",
    "    -------\n",
    "    logp: opposite of the loglikelihood of the mixture\n",
    "    \"\"\"\n",
    "    \n",
    "    # A completer"
   ]
  },
  {
   "cell_type": "markdown",
   "metadata": {},
   "source": [
    "#### Question 3\n",
    "Utilisez la fonction précédente pour tracer la densité d'un mélange de trois gaussiennes en dimension 2.\n",
    "Les mélanges de lois gaussiennes peuvent être implémentés directement en Python en utilisant le package `sklearn.mixture`, voir ici https://scikit-learn.org/stable/modules/mixture.html pour une aide détaillée (non nécessaire pour cette question).\n"
   ]
  },
  {
   "cell_type": "code",
   "execution_count": null,
   "metadata": {},
   "outputs": [],
   "source": [
    "mu1 = 2*np.ones(2)\n",
    "cov1 = np.array([[1., 0.5],\n",
    "                [0.5, 1.]])\n",
    "mu2 = -mu1\n",
    "cov2 = np.array([[1., -0.1],\n",
    "                [-0.1, 1.]])\n",
    "\n",
    "mu3 = np.array([-1.5, 2.2])\n",
    "cov3 = 0.8 * np.eye(2)\n",
    "\n",
    "logp  = mixture([multi_gauss(mu1, cov1), multi_gauss(mu2, cov2), multi_gauss(mu3, cov3)], [0.25, 0.35, 0.4])\n",
    "\n",
    "plt.figure(figsize=(8, 8), dpi=80)\n",
    "\n",
    "grid_lim = 6\n",
    "# grid on which the target pdf is displayed\n",
    "grid_plot = (-grid_lim, grid_lim, -grid_lim, grid_lim)\n",
    "# coordinates chosen on this grid\n",
    "nb_points = 100\n",
    "\n",
    "xplot = np.linspace(-grid_lim, grid_lim, nb_points)\n",
    "yplot = np.linspace(-grid_lim, grid_lim, nb_points)\n",
    "Xplot, Yplot = np.meshgrid(xplot, yplot)\n",
    "\n",
    "# A completer"
   ]
  },
  {
   "cell_type": "markdown",
   "metadata": {},
   "source": [
    "#### Question 4\n",
    "- Considérons les mélanges de loi uniforme $U[0,\\lambda]$ dont la densité est donnée par \n",
    "$$f_\\theta(x)=\\sum_{k=1}^K\\pi_kf_{U[0,\\lambda_k]}(x),$$\n",
    "où $0<\\pi_k<1$, $\\sum_{k=1}^K\\pi_k=1$ et $\\lambda_k>0$, $k=1,\\dots,K$. Ecrire une fonction **uniform_logpdf** pour évaluer la densité du mélange. Quelles formes de densité peut-on obtenir avec un mélange uniforme ?\n",
    "- Mêmes questions pour les mélanges de loi Gamma $\\Gamma(\\alpha,\\beta)$ dont la densité est donnée par \n",
    "$$f_\\theta(x)=\\sum_{k=1}^K\\pi_kf_{\\Gamma(\\alpha_k,\\beta_k)}(x),$$\n",
    "où $0<\\pi_k<1$, $\\sum_{k=1}^K\\pi_k=1$ et $\\alpha_k>0, \\beta_k>0$ pour $k=1,\\dots,K$.  Comparer aux formes des mélanges gaussiens."
   ]
  },
  {
   "cell_type": "code",
   "execution_count": null,
   "metadata": {},
   "outputs": [],
   "source": [
    "def uniform_logpdf(lmbd):\n",
    "    \"\"\"\n",
    "    Inputs\n",
    "    ----------\n",
    "    lmbd: upper bound of the support of the uniform distribution\n",
    "    \n",
    "    Outputs\n",
    "    -------\n",
    "    logp: opposite of the loglikelihood\n",
    "    \"\"\"\n",
    "\n",
    "    # A completer"
   ]
  },
  {
   "cell_type": "code",
   "execution_count": null,
   "metadata": {},
   "outputs": [],
   "source": [
    "def gamma_logpdf(a,b):\n",
    "    \"\"\"\n",
    "    Inputs\n",
    "    ----------\n",
    "    a, b: shapes and inverse scales of the gamma distribution\n",
    "    \n",
    "    Outputs\n",
    "    -------\n",
    "    logp: opposite of the loglikelihood\n",
    "    \"\"\"\n",
    "\n",
    "    # A completer"
   ]
  },
  {
   "cell_type": "code",
   "execution_count": null,
   "metadata": {},
   "outputs": [],
   "source": [
    "# A completer"
   ]
  },
  {
   "cell_type": "markdown",
   "metadata": {},
   "source": [
    "#### <font color=darkorange>Simulation de données</font>\n",
    "\n",
    "#### Question 5\n",
    "- Ecrire une fonction **rnormmix** pour générer des réalisations d'un mélange gaussien à $K$ composantes. Les arguments de la fonction sont la taille d'échantillon **n**, le moyennes, variances et poids des éléments du mélange.\n",
    "- Tester votre fonction en générant un grand échantillon d'un mélange gaussien dont on compare l'histogramme à sa densité par un graphique."
   ]
  },
  {
   "cell_type": "code",
   "execution_count": null,
   "metadata": {},
   "outputs": [],
   "source": [
    "def rnormmix(n, mu, sigma, weights):\n",
    "    \"\"\"\n",
    "    Inputs\n",
    "    ----------\n",
    "    n: number of sample\n",
    "    mu: mean of each component\n",
    "    sigma: std of each component\n",
    "    weights: weights of the mixture\n",
    "    \n",
    "    Outputs\n",
    "    -------\n",
    "    samples: samples from the mixture model\n",
    "    \"\"\"\n",
    "    \n",
    "    # A completer"
   ]
  },
  {
   "cell_type": "code",
   "execution_count": null,
   "metadata": {},
   "outputs": [],
   "source": [
    "# A completer"
   ]
  },
  {
   "cell_type": "markdown",
   "metadata": {},
   "source": [
    "#### <font color=darkorange>Estimation du modèle</font>\n",
    "\n",
    "#### Question 6\n",
    "- Estimez les paramètres du modèle en utilisant les échantillons précédents et le package `mixture` de `sklearn`. On pourra utiliser la classe `GaussianMixture` et la méthode `fit`.\n",
    "- Fournissez les paramètres estimés (à l'aide des attributs `means_`, `weights_`, etc.)."
   ]
  },
  {
   "cell_type": "code",
   "execution_count": null,
   "metadata": {},
   "outputs": [],
   "source": [
    "# A completer"
   ]
  },
  {
   "cell_type": "code",
   "execution_count": null,
   "metadata": {},
   "outputs": [],
   "source": []
  }
 ],
 "metadata": {
  "kernelspec": {
   "display_name": "Python 3 (ipykernel)",
   "language": "python",
   "name": "python3"
  },
  "language_info": {
   "codemirror_mode": {
    "name": "ipython",
    "version": 3
   },
   "file_extension": ".py",
   "mimetype": "text/x-python",
   "name": "python",
   "nbconvert_exporter": "python",
   "pygments_lexer": "ipython3",
   "version": "3.9.13"
  }
 },
 "nbformat": 4,
 "nbformat_minor": 2
}
